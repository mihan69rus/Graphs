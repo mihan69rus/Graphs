{
 "cells": [
  {
   "cell_type": "code",
   "execution_count": 2,
   "id": "e0155ddb",
   "metadata": {},
   "outputs": [],
   "source": [
    "import wget"
   ]
  },
  {
   "cell_type": "code",
   "execution_count": 3,
   "id": "7cf6aecf",
   "metadata": {},
   "outputs": [
    {
     "name": "stdout",
     "output_type": "stream",
     "text": [
      "\r",
      "  0% [                                                                              ]     0 / 14023\r",
      " 58% [.............................................                                 ]  8192 / 14023\r",
      "100% [..............................................................................] 14023 / 14023"
     ]
    },
    {
     "data": {
      "text/plain": [
       "'D:\\\\Anaconda\\\\data\\\\darkwren.txt'"
      ]
     },
     "execution_count": 3,
     "metadata": {},
     "output_type": "execute_result"
    }
   ],
   "source": [
    "url = 'http://www.livejournal.com/misc/fdata.bml?user=darkwren' \n",
    "wget.download(url, 'D:\\Anaconda\\data\\darkwren.txt')"
   ]
  },
  {
   "cell_type": "code",
   "execution_count": 4,
   "id": "9b815dcb",
   "metadata": {},
   "outputs": [
    {
     "name": "stdout",
     "output_type": "stream",
     "text": [
      "100% [................................................................................] 1834 / 1834"
     ]
    }
   ],
   "source": [
    "file = open(\"D:\\Anaconda\\data\\darkwren.txt\", \"r\")\n",
    "lines = file.readlines()\n",
    "for line in lines:\n",
    "    if line[0] == \">\":\n",
    "        adr = 'http://www.livejournal.com/misc/fdata.bml?user=' + line[2:-1]\n",
    "        url =  adr\n",
    "        text = 'D:\\Anaconda\\\\data\\\\' + line[2:-1] + '.txt'\n",
    "        wget.download(url, text)"
   ]
  },
  {
   "cell_type": "code",
   "execution_count": 5,
   "id": "c5f5d3f6",
   "metadata": {},
   "outputs": [],
   "source": [
    "links = {}\n",
    "all_users = open(\"D:\\Anaconda\\\\all.csv\", \"w+\")\n",
    "for line in lines:\n",
    "    if line[0] == \">\":\n",
    "        text = 'D:\\Anaconda\\\\data\\\\' + line[2:-1] + '.txt'\n",
    "        f = open(text, \"r\")\n",
    "        l = f.readlines()\n",
    "        for li in l:\n",
    "            if li[0] == \">\":\n",
    "                if li[2:-1] in links.keys():\n",
    "                    links[li[2:-1]].append(line[2:-1])\n",
    "                else:\n",
    "                    links[li[2:-1]] = [line[2:-1]]\n",
    "all_users.write(\"Source\\tTarget\\n\")\n",
    "for a in links:\n",
    "    for i in links[a]:\n",
    "        all_users.write(a + \"\\t\" + i + \"\\n\")"
   ]
  },
  {
   "cell_type": "code",
   "execution_count": 6,
   "id": "046155a4",
   "metadata": {},
   "outputs": [],
   "source": [
    "import networkx as nx"
   ]
  },
  {
   "cell_type": "code",
   "execution_count": 7,
   "id": "4394701e",
   "metadata": {},
   "outputs": [],
   "source": [
    "G = nx.read_edgelist(\"D:\\Anaconda\\\\all.csv\")"
   ]
  },
  {
   "cell_type": "code",
   "execution_count": 8,
   "id": "ad2741af",
   "metadata": {},
   "outputs": [
    {
     "data": {
      "text/plain": [
       "11682"
      ]
     },
     "execution_count": 8,
     "metadata": {},
     "output_type": "execute_result"
    }
   ],
   "source": [
    "G.number_of_nodes()"
   ]
  },
  {
   "cell_type": "code",
   "execution_count": 9,
   "id": "9d700dd5",
   "metadata": {},
   "outputs": [
    {
     "data": {
      "text/plain": [
       "16044"
      ]
     },
     "execution_count": 9,
     "metadata": {},
     "output_type": "execute_result"
    }
   ],
   "source": [
    "G.number_of_edges()"
   ]
  },
  {
   "cell_type": "code",
   "execution_count": 10,
   "id": "3ce22218",
   "metadata": {},
   "outputs": [
    {
     "data": {
      "text/plain": [
       "0.12792792792792793"
      ]
     },
     "execution_count": 10,
     "metadata": {},
     "output_type": "execute_result"
    }
   ],
   "source": [
    "nx.clustering(G, nodes=\"darkwren\")"
   ]
  }
 ],
 "metadata": {
  "kernelspec": {
   "display_name": "Python 3 (ipykernel)",
   "language": "python",
   "name": "python3"
  },
  "language_info": {
   "codemirror_mode": {
    "name": "ipython",
    "version": 3
   },
   "file_extension": ".py",
   "mimetype": "text/x-python",
   "name": "python",
   "nbconvert_exporter": "python",
   "pygments_lexer": "ipython3",
   "version": "3.9.7"
  }
 },
 "nbformat": 4,
 "nbformat_minor": 5
}
